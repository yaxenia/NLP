{
  "nbformat": 4,
  "nbformat_minor": 0,
  "metadata": {
    "colab": {
      "provenance": []
    },
    "kernelspec": {
      "name": "python3",
      "display_name": "Python 3"
    },
    "language_info": {
      "name": "python"
    }
  },
  "cells": [
    {
      "cell_type": "markdown",
      "source": [
        "**Оглавление**\n",
        "\n",
        ">[Загрузка библиотек](#scrollTo=8fGyjd145I0t)\n",
        "\n",
        ">[Загрузка данных](#scrollTo=mr3jdbSW5SkR)\n",
        "\n",
        ">[Pre-processing](#scrollTo=zakCy45OcNxI)\n",
        "\n",
        ">[Модели](#scrollTo=WzCnTFJIdwVf)\n",
        "\n",
        ">[Предсказание на test выборке](#scrollTo=j-c4PRFtK2ol)\n",
        "\n"
      ],
      "metadata": {
        "colab_type": "toc",
        "id": "S12Fa64lWBA-"
      }
    },
    {
      "cell_type": "markdown",
      "source": [
        "### Загрузка библиотек"
      ],
      "metadata": {
        "id": "8fGyjd145I0t"
      }
    },
    {
      "cell_type": "code",
      "execution_count": null,
      "metadata": {
        "id": "uJ1QxCa3WC4R"
      },
      "outputs": [],
      "source": [
        "import pandas as pd\n",
        "import numpy as np\n",
        "import matplotlib.pyplot as plt\n",
        "import seaborn as sns\n",
        "import nltk\n",
        "import string\n",
        "import re\n",
        "from nltk.corpus import stopwords\n",
        "from nltk.tokenize import word_tokenize\n",
        "from sklearn.model_selection import train_test_split\n",
        "from sklearn.metrics import accuracy_score\n",
        "from sklearn.svm import LinearSVC\n",
        "from sklearn.ensemble import RandomForestClassifier"
      ]
    },
    {
      "cell_type": "code",
      "source": [
        "import tensorflow as tf \n",
        "import tensorflow.keras as keras\n",
        "from keras.layers import Dense, LSTM, Embedding, Dropout"
      ],
      "metadata": {
        "id": "aRn9C80GXxqM"
      },
      "execution_count": null,
      "outputs": []
    },
    {
      "cell_type": "code",
      "source": [
        "nltk.download('stopwords')"
      ],
      "metadata": {
        "colab": {
          "base_uri": "https://localhost:8080/"
        },
        "id": "p0IWKUHedAEh",
        "outputId": "4cf15847-2c83-49a1-e637-f77d4bfbce02"
      },
      "execution_count": null,
      "outputs": [
        {
          "output_type": "stream",
          "name": "stderr",
          "text": [
            "[nltk_data] Downloading package stopwords to /root/nltk_data...\n",
            "[nltk_data]   Unzipping corpora/stopwords.zip.\n"
          ]
        },
        {
          "output_type": "execute_result",
          "data": {
            "text/plain": [
              "True"
            ]
          },
          "metadata": {},
          "execution_count": 3
        }
      ]
    },
    {
      "cell_type": "code",
      "source": [
        "from nltk.corpus import stopwords\n",
        "stop_words = stopwords.words('russian')"
      ],
      "metadata": {
        "id": "b8SvIUIZdeVJ"
      },
      "execution_count": null,
      "outputs": []
    },
    {
      "cell_type": "code",
      "source": [
        "!pip install sentence_transformers"
      ],
      "metadata": {
        "id": "K4rjNt4k5izU"
      },
      "execution_count": null,
      "outputs": []
    },
    {
      "cell_type": "markdown",
      "source": [
        "### Загрузка данных"
      ],
      "metadata": {
        "id": "mr3jdbSW5SkR"
      }
    },
    {
      "cell_type": "code",
      "source": [
        "sns.set_palette(\"icefire\", 15)"
      ],
      "metadata": {
        "id": "YssTSWj_cA2Q"
      },
      "execution_count": null,
      "outputs": []
    },
    {
      "cell_type": "code",
      "source": [
        "train = pd.read_csv(\"/content/train_tin.csv\", encoding= \"CP1251\")\n",
        "test = pd.read_csv(\"/content/test_tin.csv\", encoding= \"CP1251\")"
      ],
      "metadata": {
        "id": "YB4QZpeiXefI"
      },
      "execution_count": null,
      "outputs": []
    },
    {
      "cell_type": "code",
      "source": [
        "test.head(5)"
      ],
      "metadata": {
        "colab": {
          "base_uri": "https://localhost:8080/",
          "height": 204
        },
        "id": "FctAmZn7ZNho",
        "outputId": "6e592ff7-0804-4169-ca09-0890a6d58a23"
      },
      "execution_count": null,
      "outputs": [
        {
          "output_type": "execute_result",
          "data": {
            "text/plain": [
              "                                                text  isPositive\n",
              "0  Добрый день! Я являюсь клиентом Тинькофф банк ...         NaN\n",
              "1  Хочу выразить огромную благодарность банку Тин...         NaN\n",
              "2  Выражаю благодарность К-ву Александру В. за ст...         NaN\n",
              "3  В январе 2019 года оформила потребительский кр...         NaN\n",
              "4  Добрый день. Хочу поблагодарить банк Тинькофф ...         NaN"
            ],
            "text/html": [
              "\n",
              "  <div id=\"df-d80ec06a-1b60-4d50-adab-b6c6dcb896df\">\n",
              "    <div class=\"colab-df-container\">\n",
              "      <div>\n",
              "<style scoped>\n",
              "    .dataframe tbody tr th:only-of-type {\n",
              "        vertical-align: middle;\n",
              "    }\n",
              "\n",
              "    .dataframe tbody tr th {\n",
              "        vertical-align: top;\n",
              "    }\n",
              "\n",
              "    .dataframe thead th {\n",
              "        text-align: right;\n",
              "    }\n",
              "</style>\n",
              "<table border=\"1\" class=\"dataframe\">\n",
              "  <thead>\n",
              "    <tr style=\"text-align: right;\">\n",
              "      <th></th>\n",
              "      <th>text</th>\n",
              "      <th>isPositive</th>\n",
              "    </tr>\n",
              "  </thead>\n",
              "  <tbody>\n",
              "    <tr>\n",
              "      <th>0</th>\n",
              "      <td>Добрый день! Я являюсь клиентом Тинькофф банк ...</td>\n",
              "      <td>NaN</td>\n",
              "    </tr>\n",
              "    <tr>\n",
              "      <th>1</th>\n",
              "      <td>Хочу выразить огромную благодарность банку Тин...</td>\n",
              "      <td>NaN</td>\n",
              "    </tr>\n",
              "    <tr>\n",
              "      <th>2</th>\n",
              "      <td>Выражаю благодарность К-ву Александру В. за ст...</td>\n",
              "      <td>NaN</td>\n",
              "    </tr>\n",
              "    <tr>\n",
              "      <th>3</th>\n",
              "      <td>В январе 2019 года оформила потребительский кр...</td>\n",
              "      <td>NaN</td>\n",
              "    </tr>\n",
              "    <tr>\n",
              "      <th>4</th>\n",
              "      <td>Добрый день. Хочу поблагодарить банк Тинькофф ...</td>\n",
              "      <td>NaN</td>\n",
              "    </tr>\n",
              "  </tbody>\n",
              "</table>\n",
              "</div>\n",
              "      <button class=\"colab-df-convert\" onclick=\"convertToInteractive('df-d80ec06a-1b60-4d50-adab-b6c6dcb896df')\"\n",
              "              title=\"Convert this dataframe to an interactive table.\"\n",
              "              style=\"display:none;\">\n",
              "        \n",
              "  <svg xmlns=\"http://www.w3.org/2000/svg\" height=\"24px\"viewBox=\"0 0 24 24\"\n",
              "       width=\"24px\">\n",
              "    <path d=\"M0 0h24v24H0V0z\" fill=\"none\"/>\n",
              "    <path d=\"M18.56 5.44l.94 2.06.94-2.06 2.06-.94-2.06-.94-.94-2.06-.94 2.06-2.06.94zm-11 1L8.5 8.5l.94-2.06 2.06-.94-2.06-.94L8.5 2.5l-.94 2.06-2.06.94zm10 10l.94 2.06.94-2.06 2.06-.94-2.06-.94-.94-2.06-.94 2.06-2.06.94z\"/><path d=\"M17.41 7.96l-1.37-1.37c-.4-.4-.92-.59-1.43-.59-.52 0-1.04.2-1.43.59L10.3 9.45l-7.72 7.72c-.78.78-.78 2.05 0 2.83L4 21.41c.39.39.9.59 1.41.59.51 0 1.02-.2 1.41-.59l7.78-7.78 2.81-2.81c.8-.78.8-2.07 0-2.86zM5.41 20L4 18.59l7.72-7.72 1.47 1.35L5.41 20z\"/>\n",
              "  </svg>\n",
              "      </button>\n",
              "      \n",
              "  <style>\n",
              "    .colab-df-container {\n",
              "      display:flex;\n",
              "      flex-wrap:wrap;\n",
              "      gap: 12px;\n",
              "    }\n",
              "\n",
              "    .colab-df-convert {\n",
              "      background-color: #E8F0FE;\n",
              "      border: none;\n",
              "      border-radius: 50%;\n",
              "      cursor: pointer;\n",
              "      display: none;\n",
              "      fill: #1967D2;\n",
              "      height: 32px;\n",
              "      padding: 0 0 0 0;\n",
              "      width: 32px;\n",
              "    }\n",
              "\n",
              "    .colab-df-convert:hover {\n",
              "      background-color: #E2EBFA;\n",
              "      box-shadow: 0px 1px 2px rgba(60, 64, 67, 0.3), 0px 1px 3px 1px rgba(60, 64, 67, 0.15);\n",
              "      fill: #174EA6;\n",
              "    }\n",
              "\n",
              "    [theme=dark] .colab-df-convert {\n",
              "      background-color: #3B4455;\n",
              "      fill: #D2E3FC;\n",
              "    }\n",
              "\n",
              "    [theme=dark] .colab-df-convert:hover {\n",
              "      background-color: #434B5C;\n",
              "      box-shadow: 0px 1px 3px 1px rgba(0, 0, 0, 0.15);\n",
              "      filter: drop-shadow(0px 1px 2px rgba(0, 0, 0, 0.3));\n",
              "      fill: #FFFFFF;\n",
              "    }\n",
              "  </style>\n",
              "\n",
              "      <script>\n",
              "        const buttonEl =\n",
              "          document.querySelector('#df-d80ec06a-1b60-4d50-adab-b6c6dcb896df button.colab-df-convert');\n",
              "        buttonEl.style.display =\n",
              "          google.colab.kernel.accessAllowed ? 'block' : 'none';\n",
              "\n",
              "        async function convertToInteractive(key) {\n",
              "          const element = document.querySelector('#df-d80ec06a-1b60-4d50-adab-b6c6dcb896df');\n",
              "          const dataTable =\n",
              "            await google.colab.kernel.invokeFunction('convertToInteractive',\n",
              "                                                     [key], {});\n",
              "          if (!dataTable) return;\n",
              "\n",
              "          const docLinkHtml = 'Like what you see? Visit the ' +\n",
              "            '<a target=\"_blank\" href=https://colab.research.google.com/notebooks/data_table.ipynb>data table notebook</a>'\n",
              "            + ' to learn more about interactive tables.';\n",
              "          element.innerHTML = '';\n",
              "          dataTable['output_type'] = 'display_data';\n",
              "          await google.colab.output.renderOutput(dataTable, element);\n",
              "          const docLink = document.createElement('div');\n",
              "          docLink.innerHTML = docLinkHtml;\n",
              "          element.appendChild(docLink);\n",
              "        }\n",
              "      </script>\n",
              "    </div>\n",
              "  </div>\n",
              "  "
            ]
          },
          "metadata": {},
          "execution_count": 160
        }
      ]
    },
    {
      "cell_type": "code",
      "source": [
        "train.head(5)"
      ],
      "metadata": {
        "colab": {
          "base_uri": "https://localhost:8080/",
          "height": 204
        },
        "id": "-Fsv2kbLX4eq",
        "outputId": "a49d6f2e-4ff8-4806-c0f3-b79039e29062"
      },
      "execution_count": null,
      "outputs": [
        {
          "output_type": "execute_result",
          "data": {
            "text/plain": [
              "                                                text  isPositive\n",
              "0  27.09.19 через сайт в разделе \"Рефинансировани...           0\n",
              "1  Добрый день! Неоднократно поступают звонки по ...           0\n",
              "2  В первый раз решила воспользоваться кредитной ...           0\n",
              "3  На самом дело уже накипело из-за участившегося...           0\n",
              "4  Если вы дорожите своими нервами - ни при каких...           0"
            ],
            "text/html": [
              "\n",
              "  <div id=\"df-4ed094c0-3281-4167-bf9b-cd707e0729c3\">\n",
              "    <div class=\"colab-df-container\">\n",
              "      <div>\n",
              "<style scoped>\n",
              "    .dataframe tbody tr th:only-of-type {\n",
              "        vertical-align: middle;\n",
              "    }\n",
              "\n",
              "    .dataframe tbody tr th {\n",
              "        vertical-align: top;\n",
              "    }\n",
              "\n",
              "    .dataframe thead th {\n",
              "        text-align: right;\n",
              "    }\n",
              "</style>\n",
              "<table border=\"1\" class=\"dataframe\">\n",
              "  <thead>\n",
              "    <tr style=\"text-align: right;\">\n",
              "      <th></th>\n",
              "      <th>text</th>\n",
              "      <th>isPositive</th>\n",
              "    </tr>\n",
              "  </thead>\n",
              "  <tbody>\n",
              "    <tr>\n",
              "      <th>0</th>\n",
              "      <td>27.09.19 через сайт в разделе \"Рефинансировани...</td>\n",
              "      <td>0</td>\n",
              "    </tr>\n",
              "    <tr>\n",
              "      <th>1</th>\n",
              "      <td>Добрый день! Неоднократно поступают звонки по ...</td>\n",
              "      <td>0</td>\n",
              "    </tr>\n",
              "    <tr>\n",
              "      <th>2</th>\n",
              "      <td>В первый раз решила воспользоваться кредитной ...</td>\n",
              "      <td>0</td>\n",
              "    </tr>\n",
              "    <tr>\n",
              "      <th>3</th>\n",
              "      <td>На самом дело уже накипело из-за участившегося...</td>\n",
              "      <td>0</td>\n",
              "    </tr>\n",
              "    <tr>\n",
              "      <th>4</th>\n",
              "      <td>Если вы дорожите своими нервами - ни при каких...</td>\n",
              "      <td>0</td>\n",
              "    </tr>\n",
              "  </tbody>\n",
              "</table>\n",
              "</div>\n",
              "      <button class=\"colab-df-convert\" onclick=\"convertToInteractive('df-4ed094c0-3281-4167-bf9b-cd707e0729c3')\"\n",
              "              title=\"Convert this dataframe to an interactive table.\"\n",
              "              style=\"display:none;\">\n",
              "        \n",
              "  <svg xmlns=\"http://www.w3.org/2000/svg\" height=\"24px\"viewBox=\"0 0 24 24\"\n",
              "       width=\"24px\">\n",
              "    <path d=\"M0 0h24v24H0V0z\" fill=\"none\"/>\n",
              "    <path d=\"M18.56 5.44l.94 2.06.94-2.06 2.06-.94-2.06-.94-.94-2.06-.94 2.06-2.06.94zm-11 1L8.5 8.5l.94-2.06 2.06-.94-2.06-.94L8.5 2.5l-.94 2.06-2.06.94zm10 10l.94 2.06.94-2.06 2.06-.94-2.06-.94-.94-2.06-.94 2.06-2.06.94z\"/><path d=\"M17.41 7.96l-1.37-1.37c-.4-.4-.92-.59-1.43-.59-.52 0-1.04.2-1.43.59L10.3 9.45l-7.72 7.72c-.78.78-.78 2.05 0 2.83L4 21.41c.39.39.9.59 1.41.59.51 0 1.02-.2 1.41-.59l7.78-7.78 2.81-2.81c.8-.78.8-2.07 0-2.86zM5.41 20L4 18.59l7.72-7.72 1.47 1.35L5.41 20z\"/>\n",
              "  </svg>\n",
              "      </button>\n",
              "      \n",
              "  <style>\n",
              "    .colab-df-container {\n",
              "      display:flex;\n",
              "      flex-wrap:wrap;\n",
              "      gap: 12px;\n",
              "    }\n",
              "\n",
              "    .colab-df-convert {\n",
              "      background-color: #E8F0FE;\n",
              "      border: none;\n",
              "      border-radius: 50%;\n",
              "      cursor: pointer;\n",
              "      display: none;\n",
              "      fill: #1967D2;\n",
              "      height: 32px;\n",
              "      padding: 0 0 0 0;\n",
              "      width: 32px;\n",
              "    }\n",
              "\n",
              "    .colab-df-convert:hover {\n",
              "      background-color: #E2EBFA;\n",
              "      box-shadow: 0px 1px 2px rgba(60, 64, 67, 0.3), 0px 1px 3px 1px rgba(60, 64, 67, 0.15);\n",
              "      fill: #174EA6;\n",
              "    }\n",
              "\n",
              "    [theme=dark] .colab-df-convert {\n",
              "      background-color: #3B4455;\n",
              "      fill: #D2E3FC;\n",
              "    }\n",
              "\n",
              "    [theme=dark] .colab-df-convert:hover {\n",
              "      background-color: #434B5C;\n",
              "      box-shadow: 0px 1px 3px 1px rgba(0, 0, 0, 0.15);\n",
              "      filter: drop-shadow(0px 1px 2px rgba(0, 0, 0, 0.3));\n",
              "      fill: #FFFFFF;\n",
              "    }\n",
              "  </style>\n",
              "\n",
              "      <script>\n",
              "        const buttonEl =\n",
              "          document.querySelector('#df-4ed094c0-3281-4167-bf9b-cd707e0729c3 button.colab-df-convert');\n",
              "        buttonEl.style.display =\n",
              "          google.colab.kernel.accessAllowed ? 'block' : 'none';\n",
              "\n",
              "        async function convertToInteractive(key) {\n",
              "          const element = document.querySelector('#df-4ed094c0-3281-4167-bf9b-cd707e0729c3');\n",
              "          const dataTable =\n",
              "            await google.colab.kernel.invokeFunction('convertToInteractive',\n",
              "                                                     [key], {});\n",
              "          if (!dataTable) return;\n",
              "\n",
              "          const docLinkHtml = 'Like what you see? Visit the ' +\n",
              "            '<a target=\"_blank\" href=https://colab.research.google.com/notebooks/data_table.ipynb>data table notebook</a>'\n",
              "            + ' to learn more about interactive tables.';\n",
              "          element.innerHTML = '';\n",
              "          dataTable['output_type'] = 'display_data';\n",
              "          await google.colab.output.renderOutput(dataTable, element);\n",
              "          const docLink = document.createElement('div');\n",
              "          docLink.innerHTML = docLinkHtml;\n",
              "          element.appendChild(docLink);\n",
              "        }\n",
              "      </script>\n",
              "    </div>\n",
              "  </div>\n",
              "  "
            ]
          },
          "metadata": {},
          "execution_count": 12
        }
      ]
    },
    {
      "cell_type": "code",
      "source": [
        "train.shape"
      ],
      "metadata": {
        "colab": {
          "base_uri": "https://localhost:8080/"
        },
        "id": "U3rntZw7cJuy",
        "outputId": "3dae25ad-b4c8-4816-b9dc-60afea88e7f5"
      },
      "execution_count": null,
      "outputs": [
        {
          "output_type": "execute_result",
          "data": {
            "text/plain": [
              "(3950, 2)"
            ]
          },
          "metadata": {},
          "execution_count": 13
        }
      ]
    },
    {
      "cell_type": "markdown",
      "source": [
        "Посмотрим сколько у нас положительных и отрицательных отзывов:"
      ],
      "metadata": {
        "id": "Tl8zzqscbBZU"
      }
    },
    {
      "cell_type": "code",
      "source": [
        "plt.figure(figsize = (10,10))\n",
        "plt.title(\"Количество положительных и отрицательных отзывов\")\n",
        "train[\"isPositive\"].value_counts().plot.pie()\n",
        "plt.show()"
      ],
      "metadata": {
        "colab": {
          "base_uri": "https://localhost:8080/",
          "height": 591
        },
        "id": "Nlkvzd5Qa_zj",
        "outputId": "88f36877-deb3-4f0a-8dda-fd2ca89a15f3"
      },
      "execution_count": null,
      "outputs": [
        {
          "output_type": "display_data",
          "data": {
            "text/plain": [
              "<Figure size 720x720 with 1 Axes>"
            ],
            "image/png": "[encoded data removed]"
          },
          "metadata": {}
        }
      ]
    },
    {
      "cell_type": "markdown",
      "source": [
        "Данные у нас сбалансированные относительно целевой переменной."
      ],
      "metadata": {
        "id": "QD6FjpYpcEdc"
      }
    },
    {
      "cell_type": "markdown",
      "source": [
        "### Pre-processing"
      ],
      "metadata": {
        "id": "zakCy45OcNxI"
      }
    },
    {
      "cell_type": "markdown",
      "source": [
        "Для улучшения качества модели используются методы очситки и обработки текста."
      ],
      "metadata": {
        "id": "0o2Ems8Kccri"
      }
    },
    {
      "cell_type": "code",
      "source": [
        "def remove_chars_from_text(text, chars):\n",
        "    return \"\".join([ch for ch in text if ch not in chars])\n",
        "spec_chars = string.punctuation "
      ],
      "metadata": {
        "id": "QM3PUI7idBFG"
      },
      "execution_count": null,
      "outputs": []
    },
    {
      "cell_type": "markdown",
      "source": [
        "Необходимо очистить текст от пунктуационных символов и от \"стоп-слов\"."
      ],
      "metadata": {
        "id": "XmLECjefmvU7"
      }
    },
    {
      "cell_type": "code",
      "source": [
        "train_2 = train.copy()\n",
        "test_2 = test.copy()\n",
        "train_2.text = train_2.text.apply(lambda x : remove_chars_from_text(x,spec_chars))\n",
        "test_2.text = test_2.text.apply(lambda x : remove_chars_from_text(x,spec_chars))"
      ],
      "metadata": {
        "id": "KcJ-gegCejPO"
      },
      "execution_count": 16,
      "outputs": []
    },
    {
      "cell_type": "markdown",
      "source": [
        "Уберем перенос строки"
      ],
      "metadata": {
        "id": "8kS_GTrCnaUo"
      }
    },
    {
      "cell_type": "code",
      "source": [
        "train_2.text = train_2.text.apply(lambda x : re.sub(r'\\n',\" \",x))\n",
        "test_2.text = test_2.text.apply(lambda x : re.sub(r'\\n',\" \",x))"
      ],
      "metadata": {
        "id": "hEm_N5rVnYVl"
      },
      "execution_count": 17,
      "outputs": []
    },
    {
      "cell_type": "markdown",
      "source": [
        "Убираем заглавные буквы"
      ],
      "metadata": {
        "id": "-jKZV1xXm-7V"
      }
    },
    {
      "cell_type": "code",
      "source": [
        "train_2.text  = train_2.text.apply(lambda x : x.lower())\n",
        "test_2.text  = test_2.text.apply(lambda x : x.lower())"
      ],
      "metadata": {
        "id": "fBCus_Ace2Fe"
      },
      "execution_count": 18,
      "outputs": []
    },
    {
      "cell_type": "code",
      "source": [
        "train_2.text.head()"
      ],
      "metadata": {
        "colab": {
          "base_uri": "https://localhost:8080/"
        },
        "id": "5NyTcfTPezLj",
        "outputId": "722c3026-e2c2-4895-8628-bcdcf3004cf4"
      },
      "execution_count": 19,
      "outputs": [
        {
          "output_type": "execute_result",
          "data": {
            "text/plain": [
              "0    270919 через сайт в разделе рефинансирование с...\n",
              "1    добрый день неоднократно поступают звонки по д...\n",
              "2    в первый раз решила воспользоваться кредитной ...\n",
              "3    на самом дело уже накипело изза участившегося ...\n",
              "4    если вы дорожите своими нервами  ни при каких ...\n",
              "Name: text, dtype: object"
            ]
          },
          "metadata": {},
          "execution_count": 19
        }
      ]
    },
    {
      "cell_type": "markdown",
      "source": [
        "Разделяем текст на токены"
      ],
      "metadata": {
        "id": "91K4fKI9p7wd"
      }
    },
    {
      "cell_type": "code",
      "source": [
        "train_2.text.head()"
      ],
      "metadata": {
        "colab": {
          "base_uri": "https://localhost:8080/"
        },
        "id": "jf-jnxxtgjJ1",
        "outputId": "b8068e9b-2414-4548-bee4-0308caa3e83c"
      },
      "execution_count": 22,
      "outputs": [
        {
          "output_type": "execute_result",
          "data": {
            "text/plain": [
              "0    270919 сайт разделе рефинансирование сторонних...\n",
              "1    добрый день неоднократно поступают звонки долж...\n",
              "2    первый решила воспользоваться кредитной картой...\n",
              "3    самом дело накипело изза участившегося намахал...\n",
              "4    дорожите своими нервами каких обстоятельствах ...\n",
              "Name: text, dtype: object"
            ]
          },
          "metadata": {},
          "execution_count": 22
        }
      ]
    },
    {
      "cell_type": "markdown",
      "source": [
        "Приводит слова к инфинитиву и очищаем текст от \"стоп-слов\""
      ],
      "metadata": {
        "id": "aKpuf5Q6qCQv"
      }
    },
    {
      "cell_type": "code",
      "source": [
        "STOPWORDS = set(stop_words)\n",
        "test_2.text  = test_2.text.apply(lambda x : ' '.join(word for word in x.split() if word not in STOPWORDS))\n",
        "train_2.text  = train_2.text.apply(lambda x : ' '.join(word for word in x.split() if word not in STOPWORDS))"
      ],
      "metadata": {
        "id": "qZszOuaXYd0Z"
      },
      "execution_count": 21,
      "outputs": []
    },
    {
      "cell_type": "markdown",
      "source": [
        "### Модели"
      ],
      "metadata": {
        "id": "WzCnTFJIdwVf"
      }
    },
    {
      "cell_type": "code",
      "source": [
        "X_train, X_test, y_train, y_test = train_test_split(train_2.text, train_2[\"isPositive\"], test_size=0.3, random_state=0)"
      ],
      "metadata": {
        "id": "LroHdWgF2lv0"
      },
      "execution_count": 23,
      "outputs": []
    },
    {
      "cell_type": "code",
      "source": [
        "from keras.preprocessing.text import Tokenizer\n",
        "tokenizer = Tokenizer(num_words= 50000, filters= spec_chars, lower=True)\n",
        "tokenizer.fit_on_texts(X_train.values)\n",
        "word_index = tokenizer.word_index"
      ],
      "metadata": {
        "id": "qbSwVkmoZWIE"
      },
      "execution_count": 26,
      "outputs": []
    },
    {
      "cell_type": "code",
      "source": [
        "#train data\n",
        "vectors = tokenizer.texts_to_sequences(X_train.values)\n",
        "vectors = tf.keras.utils.pad_sequences(vectors, maxlen= 300 )"
      ],
      "metadata": {
        "id": "1ckX043lZapJ"
      },
      "execution_count": 27,
      "outputs": []
    },
    {
      "cell_type": "code",
      "source": [
        "#validation data \n",
        "test_Emb = tokenizer.texts_to_sequences(X_test.values)\n",
        "test_Emb = tf.keras.utils.pad_sequences(test_Emb, maxlen= 300)"
      ],
      "metadata": {
        "id": "R83hohoXZxln"
      },
      "execution_count": 28,
      "outputs": []
    },
    {
      "cell_type": "code",
      "source": [
        "test_final = tokenizer.texts_to_sequences(test_2.text.values)\n",
        "test_final = tf.keras.utils.pad_sequences(test_final, maxlen= 300)"
      ],
      "metadata": {
        "id": "He4hgQfKbgvw"
      },
      "execution_count": 46,
      "outputs": []
    },
    {
      "cell_type": "code",
      "source": [
        "y_train_2 = pd.get_dummies(y_train).values\n",
        "y_train_2"
      ],
      "metadata": {
        "colab": {
          "base_uri": "https://localhost:8080/"
        },
        "id": "4LjF8cBrZ5TP",
        "outputId": "d0f4b8c4-f241-4061-89c8-aeea33b5c066"
      },
      "execution_count": 29,
      "outputs": [
        {
          "output_type": "execute_result",
          "data": {
            "text/plain": [
              "array([[1, 0],\n",
              "       [0, 1],\n",
              "       [1, 0],\n",
              "       ...,\n",
              "       [1, 0],\n",
              "       [0, 1],\n",
              "       [0, 1]], dtype=uint8)"
            ]
          },
          "metadata": {},
          "execution_count": 29
        }
      ]
    },
    {
      "cell_type": "markdown",
      "source": [
        "Baseline Model SVM"
      ],
      "metadata": {
        "id": "zqGXTQy96ohh"
      }
    },
    {
      "cell_type": "code",
      "source": [
        "mdl = LinearSVC(random_state=0, max_iter=1000).fit(vectors, y_train)"
      ],
      "metadata": {
        "id": "9MBEFIky0X6Q",
        "colab": {
          "base_uri": "https://localhost:8080/"
        },
        "outputId": "6f23435f-6951-4740-ed23-91b8dcbb7ae0"
      },
      "execution_count": 31,
      "outputs": [
        {
          "output_type": "stream",
          "name": "stderr",
          "text": [
            "/usr/local/lib/python3.8/dist-packages/sklearn/svm/_base.py:1206: ConvergenceWarning: Liblinear failed to converge, increase the number of iterations.\n",
            "  warnings.warn(\n"
          ]
        }
      ]
    },
    {
      "cell_type": "code",
      "source": [
        "y_pred = mdl.predict(test_Emb)\n",
        "print(\"Accuracy : {}\".format(accuracy_score(y_test,y_pred).round(3)))"
      ],
      "metadata": {
        "colab": {
          "base_uri": "https://localhost:8080/"
        },
        "id": "K3ca2a4d_jIE",
        "outputId": "94da936a-7fc8-4c94-aeba-95626da16d39"
      },
      "execution_count": 61,
      "outputs": [
        {
          "output_type": "stream",
          "name": "stdout",
          "text": [
            "Accuracy : 0.576\n"
          ]
        }
      ]
    },
    {
      "cell_type": "markdown",
      "source": [
        "Random Forest"
      ],
      "metadata": {
        "id": "QKdXFiP3ByrF"
      }
    },
    {
      "cell_type": "code",
      "source": [
        "forest = RandomForestClassifier(max_depth=7,criterion = \"entropy\",\n",
        "                                n_estimators= 500, random_state=0)\n",
        "forest.fit(vectors, y_train)"
      ],
      "metadata": {
        "colab": {
          "base_uri": "https://localhost:8080/"
        },
        "id": "_RE5-KGsAycN",
        "outputId": "3574b4bb-9670-441d-f31a-4584af5dfc45"
      },
      "execution_count": 33,
      "outputs": [
        {
          "output_type": "execute_result",
          "data": {
            "text/plain": [
              "RandomForestClassifier(criterion='entropy', max_depth=7, n_estimators=500,\n",
              "                       random_state=0)"
            ]
          },
          "metadata": {},
          "execution_count": 33
        }
      ]
    },
    {
      "cell_type": "code",
      "source": [
        "y_pred_forest = forest.predict(test_Emb)\n",
        "print(\"Accuracy : {}\".format(accuracy_score(y_test,y_pred_forest).round(3)))"
      ],
      "metadata": {
        "colab": {
          "base_uri": "https://localhost:8080/"
        },
        "id": "xUoholmXBsvC",
        "outputId": "04c45b73-32b8-4cf4-e853-c8a9aff898db"
      },
      "execution_count": 60,
      "outputs": [
        {
          "output_type": "stream",
          "name": "stdout",
          "text": [
            "Accuracy : 0.683\n"
          ]
        }
      ]
    },
    {
      "cell_type": "markdown",
      "source": [
        "Попробуем улучшить качество модели с помощью нейронных сетей."
      ],
      "metadata": {
        "id": "MzdlkFeg_7jM"
      }
    },
    {
      "cell_type": "code",
      "source": [
        "tf.random.set_seed(0)\n",
        "Init = keras.initializers.RandomNormal(seed=0)\n",
        "model = tf.keras.Sequential([\n",
        "    Embedding(50000, 64, input_length= vectors.shape[1]),\n",
        "    LSTM(64,dropout=0.2,),\n",
        "    Dense(y_train_2.shape[1],activation='softmax')\n",
        "])"
      ],
      "metadata": {
        "id": "fqZFMit2aWsV"
      },
      "execution_count": 37,
      "outputs": []
    },
    {
      "cell_type": "code",
      "source": [
        "model.summary()\n",
        "loss = tf.keras.losses.BinaryCrossentropy() \n",
        "model.compile(loss=loss, optimizer=\"adam\", metrics=[\"accuracy\"]) "
      ],
      "metadata": {
        "colab": {
          "base_uri": "https://localhost:8080/"
        },
        "id": "IXCY8nxDET8a",
        "outputId": "35c1fd23-4e48-4f72-90d4-4f53d2e10a63"
      },
      "execution_count": 38,
      "outputs": [
        {
          "output_type": "stream",
          "name": "stdout",
          "text": [
            "Model: \"sequential_1\"\n",
            "_________________________________________________________________\n",
            " Layer (type)                Output Shape              Param #   \n",
            "=================================================================\n",
            " embedding_2 (Embedding)     (None, 300, 64)           3200000   \n",
            "                                                                 \n",
            " lstm_1 (LSTM)               (None, 64)                33024     \n",
            "                                                                 \n",
            " dense_1 (Dense)             (None, 2)                 130       \n",
            "                                                                 \n",
            "=================================================================\n",
            "Total params: 3,233,154\n",
            "Trainable params: 3,233,154\n",
            "Non-trainable params: 0\n",
            "_________________________________________________________________\n"
          ]
        }
      ]
    },
    {
      "cell_type": "code",
      "source": [
        "hist = model.fit(vectors, y_train_2, epochs=5, validation_split=.3)"
      ],
      "metadata": {
        "colab": {
          "base_uri": "https://localhost:8080/"
        },
        "id": "SFb76uRHE2wQ",
        "outputId": "ff84dfe2-d9dc-446d-ece4-79ca90cbe373"
      },
      "execution_count": 39,
      "outputs": [
        {
          "output_type": "stream",
          "name": "stdout",
          "text": [
            "Epoch 1/5\n",
            "61/61 [==============================] - 18s 237ms/step - loss: 0.6197 - accuracy: 0.6672 - val_loss: 0.3742 - val_accuracy: 0.8880\n",
            "Epoch 2/5\n",
            "61/61 [==============================] - 14s 228ms/step - loss: 0.2112 - accuracy: 0.9344 - val_loss: 0.3178 - val_accuracy: 0.8759\n",
            "Epoch 3/5\n",
            "61/61 [==============================] - 14s 237ms/step - loss: 0.0595 - accuracy: 0.9850 - val_loss: 0.1949 - val_accuracy: 0.9313\n",
            "Epoch 4/5\n",
            "61/61 [==============================] - 15s 247ms/step - loss: 0.0117 - accuracy: 0.9984 - val_loss: 0.2115 - val_accuracy: 0.9325\n",
            "Epoch 5/5\n",
            "61/61 [==============================] - 14s 228ms/step - loss: 0.0050 - accuracy: 1.0000 - val_loss: 0.2127 - val_accuracy: 0.9325\n"
          ]
        }
      ]
    },
    {
      "cell_type": "code",
      "source": [
        "y_pred_nn = model.predict(test_Emb)\n",
        "pY = pd.DataFrame(np.argmax(y_pred_nn, axis = 1), columns=['y'])"
      ],
      "metadata": {
        "colab": {
          "base_uri": "https://localhost:8080/"
        },
        "id": "1xfqD1Z3Jl-Y",
        "outputId": "aed08984-6fc8-4834-f35a-3d910643598c"
      },
      "execution_count": 43,
      "outputs": [
        {
          "output_type": "stream",
          "name": "stdout",
          "text": [
            "38/38 [==============================] - 2s 41ms/step\n"
          ]
        }
      ]
    },
    {
      "cell_type": "code",
      "source": [
        "print(\"Accuracy : {}\".format(accuracy_score(y_test,pY.y).round(3)))"
      ],
      "metadata": {
        "colab": {
          "base_uri": "https://localhost:8080/"
        },
        "id": "9Ph-ilXuJvnp",
        "outputId": "d914e478-7f5e-4fd6-fd76-98afa4c4e3bc"
      },
      "execution_count": 62,
      "outputs": [
        {
          "output_type": "stream",
          "name": "stdout",
          "text": [
            "Accuracy : 0.93\n"
          ]
        }
      ]
    },
    {
      "cell_type": "markdown",
      "source": [
        "### Предсказание"
      ],
      "metadata": {
        "id": "j-c4PRFtK2ol"
      }
    },
    {
      "cell_type": "markdown",
      "source": [
        "Лучше всех предсказывала модель получилась с применением нейронных сетей, поэтому прогнозирование тестовой выборки будет проводится на данной модели."
      ],
      "metadata": {
        "id": "InHDXijqK5xC"
      }
    },
    {
      "cell_type": "code",
      "source": [
        "y_pred_final = model.predict(test_final)\n",
        "Y = np.argmax(y_pred_final, axis = 1)"
      ],
      "metadata": {
        "colab": {
          "base_uri": "https://localhost:8080/"
        },
        "id": "yMevrRxHbvyg",
        "outputId": "0ee975e0-09bb-498c-8a5c-8f3ab72106b4"
      },
      "execution_count": 52,
      "outputs": [
        {
          "output_type": "stream",
          "name": "stdout",
          "text": [
            "32/32 [==============================] - 1s 40ms/step\n"
          ]
        }
      ]
    },
    {
      "cell_type": "code",
      "source": [
        "test[\"isPositive\"] = Y"
      ],
      "metadata": {
        "id": "sV63rZ70Vabv"
      },
      "execution_count": 53,
      "outputs": []
    },
    {
      "cell_type": "code",
      "source": [
        "test.head()"
      ],
      "metadata": {
        "colab": {
          "base_uri": "https://localhost:8080/",
          "height": 204
        },
        "id": "af8Q1ddmV4-R",
        "outputId": "450e4443-17df-4bad-e5fc-6b9e46573c0b"
      },
      "execution_count": 54,
      "outputs": [
        {
          "output_type": "execute_result",
          "data": {
            "text/plain": [
              "                                                text  isPositive\n",
              "0  Добрый день! Я являюсь клиентом Тинькофф банк ...           0\n",
              "1  Хочу выразить огромную благодарность банку Тин...           1\n",
              "2  Выражаю благодарность К-ву Александру В. за ст...           1\n",
              "3  В январе 2019 года оформила потребительский кр...           0\n",
              "4  Добрый день. Хочу поблагодарить банк Тинькофф ...           1"
            ],
            "text/html": [
              "\n",
              "  <div id=\"df-6a80bff2-71c0-4d0e-8b81-e8862ed6cb6b\">\n",
              "    <div class=\"colab-df-container\">\n",
              "      <div>\n",
              "<style scoped>\n",
              "    .dataframe tbody tr th:only-of-type {\n",
              "        vertical-align: middle;\n",
              "    }\n",
              "\n",
              "    .dataframe tbody tr th {\n",
              "        vertical-align: top;\n",
              "    }\n",
              "\n",
              "    .dataframe thead th {\n",
              "        text-align: right;\n",
              "    }\n",
              "</style>\n",
              "<table border=\"1\" class=\"dataframe\">\n",
              "  <thead>\n",
              "    <tr style=\"text-align: right;\">\n",
              "      <th></th>\n",
              "      <th>text</th>\n",
              "      <th>isPositive</th>\n",
              "    </tr>\n",
              "  </thead>\n",
              "  <tbody>\n",
              "    <tr>\n",
              "      <th>0</th>\n",
              "      <td>Добрый день! Я являюсь клиентом Тинькофф банк ...</td>\n",
              "      <td>0</td>\n",
              "    </tr>\n",
              "    <tr>\n",
              "      <th>1</th>\n",
              "      <td>Хочу выразить огромную благодарность банку Тин...</td>\n",
              "      <td>1</td>\n",
              "    </tr>\n",
              "    <tr>\n",
              "      <th>2</th>\n",
              "      <td>Выражаю благодарность К-ву Александру В. за ст...</td>\n",
              "      <td>1</td>\n",
              "    </tr>\n",
              "    <tr>\n",
              "      <th>3</th>\n",
              "      <td>В январе 2019 года оформила потребительский кр...</td>\n",
              "      <td>0</td>\n",
              "    </tr>\n",
              "    <tr>\n",
              "      <th>4</th>\n",
              "      <td>Добрый день. Хочу поблагодарить банк Тинькофф ...</td>\n",
              "      <td>1</td>\n",
              "    </tr>\n",
              "  </tbody>\n",
              "</table>\n",
              "</div>\n",
              "      <button class=\"colab-df-convert\" onclick=\"convertToInteractive('df-6a80bff2-71c0-4d0e-8b81-e8862ed6cb6b')\"\n",
              "              title=\"Convert this dataframe to an interactive table.\"\n",
              "              style=\"display:none;\">\n",
              "        \n",
              "  <svg xmlns=\"http://www.w3.org/2000/svg\" height=\"24px\"viewBox=\"0 0 24 24\"\n",
              "       width=\"24px\">\n",
              "    <path d=\"M0 0h24v24H0V0z\" fill=\"none\"/>\n",
              "    <path d=\"M18.56 5.44l.94 2.06.94-2.06 2.06-.94-2.06-.94-.94-2.06-.94 2.06-2.06.94zm-11 1L8.5 8.5l.94-2.06 2.06-.94-2.06-.94L8.5 2.5l-.94 2.06-2.06.94zm10 10l.94 2.06.94-2.06 2.06-.94-2.06-.94-.94-2.06-.94 2.06-2.06.94z\"/><path d=\"M17.41 7.96l-1.37-1.37c-.4-.4-.92-.59-1.43-.59-.52 0-1.04.2-1.43.59L10.3 9.45l-7.72 7.72c-.78.78-.78 2.05 0 2.83L4 21.41c.39.39.9.59 1.41.59.51 0 1.02-.2 1.41-.59l7.78-7.78 2.81-2.81c.8-.78.8-2.07 0-2.86zM5.41 20L4 18.59l7.72-7.72 1.47 1.35L5.41 20z\"/>\n",
              "  </svg>\n",
              "      </button>\n",
              "      \n",
              "  <style>\n",
              "    .colab-df-container {\n",
              "      display:flex;\n",
              "      flex-wrap:wrap;\n",
              "      gap: 12px;\n",
              "    }\n",
              "\n",
              "    .colab-df-convert {\n",
              "      background-color: #E8F0FE;\n",
              "      border: none;\n",
              "      border-radius: 50%;\n",
              "      cursor: pointer;\n",
              "      display: none;\n",
              "      fill: #1967D2;\n",
              "      height: 32px;\n",
              "      padding: 0 0 0 0;\n",
              "      width: 32px;\n",
              "    }\n",
              "\n",
              "    .colab-df-convert:hover {\n",
              "      background-color: #E2EBFA;\n",
              "      box-shadow: 0px 1px 2px rgba(60, 64, 67, 0.3), 0px 1px 3px 1px rgba(60, 64, 67, 0.15);\n",
              "      fill: #174EA6;\n",
              "    }\n",
              "\n",
              "    [theme=dark] .colab-df-convert {\n",
              "      background-color: #3B4455;\n",
              "      fill: #D2E3FC;\n",
              "    }\n",
              "\n",
              "    [theme=dark] .colab-df-convert:hover {\n",
              "      background-color: #434B5C;\n",
              "      box-shadow: 0px 1px 3px 1px rgba(0, 0, 0, 0.15);\n",
              "      filter: drop-shadow(0px 1px 2px rgba(0, 0, 0, 0.3));\n",
              "      fill: #FFFFFF;\n",
              "    }\n",
              "  </style>\n",
              "\n",
              "      <script>\n",
              "        const buttonEl =\n",
              "          document.querySelector('#df-6a80bff2-71c0-4d0e-8b81-e8862ed6cb6b button.colab-df-convert');\n",
              "        buttonEl.style.display =\n",
              "          google.colab.kernel.accessAllowed ? 'block' : 'none';\n",
              "\n",
              "        async function convertToInteractive(key) {\n",
              "          const element = document.querySelector('#df-6a80bff2-71c0-4d0e-8b81-e8862ed6cb6b');\n",
              "          const dataTable =\n",
              "            await google.colab.kernel.invokeFunction('convertToInteractive',\n",
              "                                                     [key], {});\n",
              "          if (!dataTable) return;\n",
              "\n",
              "          const docLinkHtml = 'Like what you see? Visit the ' +\n",
              "            '<a target=\"_blank\" href=https://colab.research.google.com/notebooks/data_table.ipynb>data table notebook</a>'\n",
              "            + ' to learn more about interactive tables.';\n",
              "          element.innerHTML = '';\n",
              "          dataTable['output_type'] = 'display_data';\n",
              "          await google.colab.output.renderOutput(dataTable, element);\n",
              "          const docLink = document.createElement('div');\n",
              "          docLink.innerHTML = docLinkHtml;\n",
              "          element.appendChild(docLink);\n",
              "        }\n",
              "      </script>\n",
              "    </div>\n",
              "  </div>\n",
              "  "
            ]
          },
          "metadata": {},
          "execution_count": 54
        }
      ]
    },
    {
      "cell_type": "code",
      "source": [
        "test.to_csv(\"/content/test_final.csv\")"
      ],
      "metadata": {
        "id": "gjVTr-QmaSbj"
      },
      "execution_count": null,
      "outputs": []
    }
  ]
}